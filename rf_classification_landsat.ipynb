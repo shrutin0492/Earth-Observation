{
  "nbformat": 4,
  "nbformat_minor": 0,
  "metadata": {
    "colab": {
      "provenance": [],
      "authorship_tag": "ABX9TyPip+khvBPuvxtXxnneJ36K",
      "include_colab_link": true
    },
    "kernelspec": {
      "name": "python3",
      "display_name": "Python 3"
    },
    "language_info": {
      "name": "python"
    }
  },
  "cells": [
    {
      "cell_type": "markdown",
      "metadata": {
        "id": "view-in-github",
        "colab_type": "text"
      },
      "source": [
        "<a href=\"https://colab.research.google.com/github/shrutin567/Earth-Observation/blob/main/rf_classification_landsat.ipynb\" target=\"_parent\"><img src=\"https://colab.research.google.com/assets/colab-badge.svg\" alt=\"Open In Colab\"/></a>"
      ]
    },
    {
      "cell_type": "markdown",
      "source": [
        "Random Forest Supervised Classification"
      ],
      "metadata": {
        "id": "k6vwr5TzKJDB"
      }
    },
    {
      "cell_type": "code",
      "source": [
        "#import earth engine\n",
        "import ee\n",
        "\n",
        "#trigger the authentication flow\n",
        "ee.Authenticate()\n",
        "\n",
        "#initialize the library\n",
        "ee.Initialize()"
      ],
      "metadata": {
        "colab": {
          "base_uri": "https://localhost:8080/"
        },
        "id": "NpixKxWNKO9F",
        "outputId": "117e8448-5c0d-49cb-b661-de1488148a4a"
      },
      "execution_count": null,
      "outputs": [
        {
          "output_type": "stream",
          "name": "stdout",
          "text": [
            "To authorize access needed by Earth Engine, open the following URL in a web browser and follow the instructions. If the web browser does not start automatically, please manually browse the URL below.\n",
            "\n",
            "    https://code.earthengine.google.com/client-auth?scopes=https%3A//www.googleapis.com/auth/earthengine%20https%3A//www.googleapis.com/auth/devstorage.full_control&request_id=Rjm3pBI7lr3BKtn1WhdctDtZYsRaGqg7Kp-ZJF_xXiE&tc=ZQ63xxrptNwT-gc-8eBalIEZroIkIPDfQt_zEN981ho&cc=RcX1m9b4BMJCpYslPE2oGvG2XLAa_l6vtGriBTDqfKo\n",
            "\n",
            "The authorization workflow will generate a code, which you should paste in the box below.\n",
            "Enter verification code: 4/1Adeu5BVNt5a0oJW1SLq7dab31p9ca_i2bdDZ8J9HPmEIfxNwKgVL1c7gLRM\n",
            "\n",
            "Successfully saved authorization token.\n"
          ]
        }
      ]
    },
    {
      "cell_type": "code",
      "source": [
        "#random forest supervised classification with Landsat\n",
        "#ROI\n",
        "roi=ee.Geometry.Point([-122.26,37.87])\n",
        "\n",
        "#Load Landsat 8 data\n",
        "image=ee.ImageCollection('LANDSAT/LC08/C01/T1_SR')\\\n",
        ".filterDate('2017-01-01','2017-12-31')\\\n",
        ".filterBounds(roi)\\\n",
        ".sort('CLOUD_COVER')\\\n",
        ".first()\n",
        "\n",
        "visParamsTrue={'bands':['B4','B3','B2'],'min':0, 'max':3000, 'gamma':1.4}\n",
        "\n",
        "#import training data\n",
        "training=ee.FeatureCollection('users/midekisa/Train_Cover_CA')\n",
        "\n",
        "label='Class'\n",
        "bands=['B1','B2','B3','B4','B5','B7']\n",
        "input=image.select(bands)\n",
        "\n",
        "#overlay the points on the imagery to get training.\n",
        "trainImage=input.sampleRegions(**{\n",
        "    'collection':training,\n",
        "    'properties':[label],\n",
        "    'scale':30\n",
        "})\n",
        "\n",
        "trainingData=trainImage.randomColumn()\n",
        "trainSet=trainingData.filter(ee.Filter.lessThan('random',0.8))\n",
        "testSet=trainingData.filter(ee.Filter.greaterThanOrEquals('random',0.8))\n",
        "\n",
        "#classification model\n",
        "#make a random forest classifier and train it\n",
        "classifier=ee.Classifier.smileRandomForest(10).train(**{\n",
        "    'features':trainSet,\n",
        "    'classProperty':label,\n",
        "    'inputProperties':bands\n",
        "})\n",
        "\n",
        "#classify the image\n",
        "classified=input.classify(classifier);\n",
        "#print(classified.getInfo());\n",
        "\n",
        "#define a palette for the classification\n",
        "landcoverPalette=[\n",
        "    '#0c2c84',#water(0)\n",
        "    '#e31a1c',#urban(1)\n",
        "    '#005a32',#forest(2)\n",
        "    '#FF8000',#crop(3)\n",
        "    '#969696',#barren(4)\n",
        "]"
      ],
      "metadata": {
        "id": "NT3KdtzeKs45"
      },
      "execution_count": null,
      "outputs": []
    },
    {
      "cell_type": "code",
      "source": [
        "#import the folium library\n",
        "import folium\n",
        "\n",
        "#define a method for displaying ee image tiles to folium map\n",
        "def add_ee_layer(self,ee_image_object,vis_params,name):\n",
        "  map_id_dict=ee.Image(ee_image_object).getMapId(vis_params)\n",
        "  folium.raster_layers.TileLayer(\n",
        "      tiles=map_id_dict['tile_fetcher'].url_format,\n",
        "      attr='Map Data &copy; <a href=\"https://earthengine.google.com/\">Google Earth Engine</a>',\n",
        "      name=name,\n",
        "      overlay=True,\n",
        "      control=True\n",
        "  ).add_to(self)\n",
        "\n",
        "#add ee drawing method to folium\n",
        "folium.Map.add_ee_layer=add_ee_layer\n",
        "\n",
        "#create a folium map object\n",
        "my_map=folium.Map(location=[38,-124],zoom_start=8)\n",
        "\n",
        "#add the layer to the map object\n",
        "my_map.add_ee_layer(image,visParamsTrue,\"Landsat 2017\")\n",
        "my_map.add_ee_layer(classified,{'palette':landcoverPalette,'min':0,'max':4}, 'classification')\n",
        "\n",
        "#add a layer control panel to the map\n",
        "my_map.add_child(folium.LayerControl())\n",
        "\n",
        "#display the map\n",
        "display(my_map)"
      ],
      "metadata": {
        "colab": {
          "base_uri": "https://localhost:8080/",
          "height": 395
        },
        "id": "dpAgRL_1Nr7D",
        "outputId": "5a4ab4bb-8c11-4b59-edef-8c72cfb79af4"
      },
      "execution_count": null,
      "outputs": [
        {
          "output_type": "display_data",
          "data": {
            "text/plain": [
              "<folium.folium.Map at 0x7b544742b910>"
            ],
            "text/html": [
              "<div style=\"width:100%;\"><div style=\"position:relative;width:100%;height:0;padding-bottom:60%;\"><span style=\"color:#565656\">Make this Notebook Trusted to load map: File -> Trust Notebook</span><iframe srcdoc=\"&lt;!DOCTYPE html&gt;\n",
              "&lt;html&gt;\n",
              "&lt;head&gt;\n",
              "    \n",
              "    &lt;meta http-equiv=&quot;content-type&quot; content=&quot;text/html; charset=UTF-8&quot; /&gt;\n",
              "    \n",
              "        &lt;script&gt;\n",
              "            L_NO_TOUCH = false;\n",
              "            L_DISABLE_3D = false;\n",
              "        &lt;/script&gt;\n",
              "    \n",
              "    &lt;style&gt;html, body {width: 100%;height: 100%;margin: 0;padding: 0;}&lt;/style&gt;\n",
              "    &lt;style&gt;#map {position:absolute;top:0;bottom:0;right:0;left:0;}&lt;/style&gt;\n",
              "    &lt;script src=&quot;https://cdn.jsdelivr.net/npm/leaflet@1.9.3/dist/leaflet.js&quot;&gt;&lt;/script&gt;\n",
              "    &lt;script src=&quot;https://code.jquery.com/jquery-1.12.4.min.js&quot;&gt;&lt;/script&gt;\n",
              "    &lt;script src=&quot;https://cdn.jsdelivr.net/npm/bootstrap@5.2.2/dist/js/bootstrap.bundle.min.js&quot;&gt;&lt;/script&gt;\n",
              "    &lt;script src=&quot;https://cdnjs.cloudflare.com/ajax/libs/Leaflet.awesome-markers/2.0.2/leaflet.awesome-markers.js&quot;&gt;&lt;/script&gt;\n",
              "    &lt;link rel=&quot;stylesheet&quot; href=&quot;https://cdn.jsdelivr.net/npm/leaflet@1.9.3/dist/leaflet.css&quot;/&gt;\n",
              "    &lt;link rel=&quot;stylesheet&quot; href=&quot;https://cdn.jsdelivr.net/npm/bootstrap@5.2.2/dist/css/bootstrap.min.css&quot;/&gt;\n",
              "    &lt;link rel=&quot;stylesheet&quot; href=&quot;https://netdna.bootstrapcdn.com/bootstrap/3.0.0/css/bootstrap.min.css&quot;/&gt;\n",
              "    &lt;link rel=&quot;stylesheet&quot; href=&quot;https://cdn.jsdelivr.net/npm/@fortawesome/fontawesome-free@6.2.0/css/all.min.css&quot;/&gt;\n",
              "    &lt;link rel=&quot;stylesheet&quot; href=&quot;https://cdnjs.cloudflare.com/ajax/libs/Leaflet.awesome-markers/2.0.2/leaflet.awesome-markers.css&quot;/&gt;\n",
              "    &lt;link rel=&quot;stylesheet&quot; href=&quot;https://cdn.jsdelivr.net/gh/python-visualization/folium/folium/templates/leaflet.awesome.rotate.min.css&quot;/&gt;\n",
              "    \n",
              "            &lt;meta name=&quot;viewport&quot; content=&quot;width=device-width,\n",
              "                initial-scale=1.0, maximum-scale=1.0, user-scalable=no&quot; /&gt;\n",
              "            &lt;style&gt;\n",
              "                #map_7bb58df6c16117e3c76185ed27241f87 {\n",
              "                    position: relative;\n",
              "                    width: 100.0%;\n",
              "                    height: 100.0%;\n",
              "                    left: 0.0%;\n",
              "                    top: 0.0%;\n",
              "                }\n",
              "                .leaflet-container { font-size: 1rem; }\n",
              "            &lt;/style&gt;\n",
              "        \n",
              "&lt;/head&gt;\n",
              "&lt;body&gt;\n",
              "    \n",
              "    \n",
              "            &lt;div class=&quot;folium-map&quot; id=&quot;map_7bb58df6c16117e3c76185ed27241f87&quot; &gt;&lt;/div&gt;\n",
              "        \n",
              "&lt;/body&gt;\n",
              "&lt;script&gt;\n",
              "    \n",
              "    \n",
              "            var map_7bb58df6c16117e3c76185ed27241f87 = L.map(\n",
              "                &quot;map_7bb58df6c16117e3c76185ed27241f87&quot;,\n",
              "                {\n",
              "                    center: [38.0, -124.0],\n",
              "                    crs: L.CRS.EPSG3857,\n",
              "                    zoom: 8,\n",
              "                    zoomControl: true,\n",
              "                    preferCanvas: false,\n",
              "                }\n",
              "            );\n",
              "\n",
              "            \n",
              "\n",
              "        \n",
              "    \n",
              "            var tile_layer_2b5b425bbcad436d9dd95e019d813240 = L.tileLayer(\n",
              "                &quot;https://{s}.tile.openstreetmap.org/{z}/{x}/{y}.png&quot;,\n",
              "                {&quot;attribution&quot;: &quot;Data by \\u0026copy; \\u003ca target=\\&quot;_blank\\&quot; href=\\&quot;http://openstreetmap.org\\&quot;\\u003eOpenStreetMap\\u003c/a\\u003e, under \\u003ca target=\\&quot;_blank\\&quot; href=\\&quot;http://www.openstreetmap.org/copyright\\&quot;\\u003eODbL\\u003c/a\\u003e.&quot;, &quot;detectRetina&quot;: false, &quot;maxNativeZoom&quot;: 18, &quot;maxZoom&quot;: 18, &quot;minZoom&quot;: 0, &quot;noWrap&quot;: false, &quot;opacity&quot;: 1, &quot;subdomains&quot;: &quot;abc&quot;, &quot;tms&quot;: false}\n",
              "            ).addTo(map_7bb58df6c16117e3c76185ed27241f87);\n",
              "        \n",
              "    \n",
              "            var tile_layer_2556729d1265ac558846200d9e432fa9 = L.tileLayer(\n",
              "                &quot;https://earthengine.googleapis.com/v1/projects/earthengine-legacy/maps/2bfc495e1349943f912a91e037056446-36724663ca05aca3fb87015b3d9499c1/tiles/{z}/{x}/{y}&quot;,\n",
              "                {&quot;attribution&quot;: &quot;Map Data \\u0026copy; \\u003ca href=\\&quot;https://earthengine.google.com/\\&quot;\\u003eGoogle Earth Engine\\u003c/a\\u003e&quot;, &quot;detectRetina&quot;: false, &quot;maxNativeZoom&quot;: 18, &quot;maxZoom&quot;: 18, &quot;minZoom&quot;: 0, &quot;noWrap&quot;: false, &quot;opacity&quot;: 1, &quot;subdomains&quot;: &quot;abc&quot;, &quot;tms&quot;: false}\n",
              "            ).addTo(map_7bb58df6c16117e3c76185ed27241f87);\n",
              "        \n",
              "    \n",
              "            var tile_layer_6b7c4f66e8bd14024d96b1a915f85298 = L.tileLayer(\n",
              "                &quot;https://earthengine.googleapis.com/v1/projects/earthengine-legacy/maps/b79015d74ee3c9ad0d74bb38379e186f-6ce71b9df655d0528606af50059727be/tiles/{z}/{x}/{y}&quot;,\n",
              "                {&quot;attribution&quot;: &quot;Map Data \\u0026copy; \\u003ca href=\\&quot;https://earthengine.google.com/\\&quot;\\u003eGoogle Earth Engine\\u003c/a\\u003e&quot;, &quot;detectRetina&quot;: false, &quot;maxNativeZoom&quot;: 18, &quot;maxZoom&quot;: 18, &quot;minZoom&quot;: 0, &quot;noWrap&quot;: false, &quot;opacity&quot;: 1, &quot;subdomains&quot;: &quot;abc&quot;, &quot;tms&quot;: false}\n",
              "            ).addTo(map_7bb58df6c16117e3c76185ed27241f87);\n",
              "        \n",
              "    \n",
              "            var layer_control_740ab44bf9c3858bf870f041cdb695a3 = {\n",
              "                base_layers : {\n",
              "                    &quot;openstreetmap&quot; : tile_layer_2b5b425bbcad436d9dd95e019d813240,\n",
              "                },\n",
              "                overlays :  {\n",
              "                    &quot;Landsat 2017&quot; : tile_layer_2556729d1265ac558846200d9e432fa9,\n",
              "                    &quot;classification&quot; : tile_layer_6b7c4f66e8bd14024d96b1a915f85298,\n",
              "                },\n",
              "            };\n",
              "            L.control.layers(\n",
              "                layer_control_740ab44bf9c3858bf870f041cdb695a3.base_layers,\n",
              "                layer_control_740ab44bf9c3858bf870f041cdb695a3.overlays,\n",
              "                {&quot;autoZIndex&quot;: true, &quot;collapsed&quot;: true, &quot;position&quot;: &quot;topright&quot;}\n",
              "            ).addTo(map_7bb58df6c16117e3c76185ed27241f87);\n",
              "        \n",
              "&lt;/script&gt;\n",
              "&lt;/html&gt;\" style=\"position:absolute;width:100%;height:100%;left:0;top:0;border:none !important;\" allowfullscreen webkitallowfullscreen mozallowfullscreen></iframe></div></div>"
            ]
          },
          "metadata": {}
        }
      ]
    }
  ]
}