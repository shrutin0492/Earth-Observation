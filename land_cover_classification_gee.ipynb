{
  "nbformat": 4,
  "nbformat_minor": 0,
  "metadata": {
    "colab": {
      "provenance": [],
      "authorship_tag": "ABX9TyN9anX8SDdGan8NF85M1V/+",
      "include_colab_link": true
    },
    "kernelspec": {
      "name": "python3",
      "display_name": "Python 3"
    },
    "language_info": {
      "name": "python"
    }
  },
  "cells": [
    {
      "cell_type": "markdown",
      "metadata": {
        "id": "view-in-github",
        "colab_type": "text"
      },
      "source": [
        "<a href=\"https://colab.research.google.com/github/shrutin567/Earth-Observation/blob/main/land_cover_classification_gee.ipynb\" target=\"_parent\"><img src=\"https://colab.research.google.com/assets/colab-badge.svg\" alt=\"Open In Colab\"/></a>"
      ]
    },
    {
      "cell_type": "markdown",
      "source": [
        "Clustering"
      ],
      "metadata": {
        "id": "vtIMEwdoscY1"
      }
    },
    {
      "cell_type": "markdown",
      "source": [
        "Authenticate and Initialize GEE"
      ],
      "metadata": {
        "id": "xj3-_m5ZshYE"
      }
    },
    {
      "cell_type": "code",
      "source": [
        "import ee"
      ],
      "metadata": {
        "id": "tBDLtc2Qqljh"
      },
      "execution_count": null,
      "outputs": []
    },
    {
      "cell_type": "code",
      "source": [
        "# Trigger the authentication flow.\n",
        "ee.Authenticate()\n",
        "\n",
        "# Initialize the library.\n",
        "ee.Initialize()"
      ],
      "metadata": {
        "colab": {
          "base_uri": "https://localhost:8080/"
        },
        "id": "HcPvFAW2rdOM",
        "outputId": "4e08a8f5-c8eb-4bc5-a83d-3e27e0b94604"
      },
      "execution_count": null,
      "outputs": [
        {
          "output_type": "stream",
          "name": "stdout",
          "text": [
            "To authorize access needed by Earth Engine, open the following URL in a web browser and follow the instructions. If the web browser does not start automatically, please manually browse the URL below.\n",
            "\n",
            "    https://code.earthengine.google.com/client-auth?scopes=https%3A//www.googleapis.com/auth/earthengine%20https%3A//www.googleapis.com/auth/devstorage.full_control&request_id=g3BqP7gcrlmwcZ8ntJKqD2LNSZXtTpDcZjwGRZoQsCY&tc=6wra607y-p1mMZv47Tvr6jKDCZpaR5xUr8XO9boPC64&cc=SyWjm0XaeQguE5Fw1WGIJ3ptkUg2R87hkF_vP0uIx-Q\n",
            "\n",
            "The authorization workflow will generate a code, which you should paste in the box below.\n",
            "Enter verification code: 4/1Adeu5BVz8U5UIQZOkKaXgCnWhPGJxlqrK_dz1nwTh7fAIWWONGg0dbyERlU\n",
            "\n",
            "Successfully saved authorization token.\n"
          ]
        }
      ]
    },
    {
      "cell_type": "code",
      "source": [
        "#define region of interest\n",
        "region=ee.Geometry.Rectangle(31.56,-26.24,31.78,-26.09)\n",
        "\n",
        "#load landsat data\n",
        "image=ee.ImageCollection('LANDSAT/LC08/C01/T1_SR')\\\n",
        ".filterDate('2017-01-01','2017-12-31')\\\n",
        ".filterBounds(region)\\\n",
        ".sort('CLOUD_COVER')\\\n",
        ".first()\n",
        "\n",
        "#make the training data\n",
        "training=image.sample(**{\n",
        "    'region':region,\n",
        "    'scale':30,\n",
        "    'numPixels':5000\n",
        "})\n",
        "\n",
        "#initiate the clusterer and train it\n",
        "clusterer=ee.Clusterer.wekaKMeans(15).train(training)\n",
        "\n",
        "#Cluster the input using the trained clusterer\n",
        "result=image.cluster(clusterer)"
      ],
      "metadata": {
        "id": "1f4y_ntqsZ_A"
      },
      "execution_count": null,
      "outputs": []
    },
    {
      "cell_type": "code",
      "source": [
        "#import the Folium library\n",
        "import folium\n",
        "\n",
        "#define a method for displaying earth engine image tiles to folium map\n",
        "def add_ee_layer(self,ee_image_object,vis_params,name):\n",
        "  map_id_dict=ee.Image(ee_image_object).getMapId(vis_params)\n",
        "  folium.raster_layers.TileLayer(\n",
        "      tiles=map_id_dict['tile_fetcher'].url_format,\n",
        "      attr='Map Data &copy; <a href=\"https://earthengine.google.com/\">Google Earth Engine>/a>',\n",
        "      name=name,\n",
        "      overlay=True,\n",
        "      control=True\n",
        "  ).add_to(self)\n",
        "\n",
        "#Add EE drawing method to folium\n",
        "folium.Map.add_ee_layer=add_ee_layer\n",
        "\n",
        "#create a folium map object\n",
        "my_map=folium.Map(location=[-26.1694, 31.6632], zoom_start=11)\n",
        "\n",
        "#add the layer to the map object\n",
        "my_map.add_ee_layer(result.clip(region).randomVisualizer(),{},'clusters')\n",
        "\n",
        "#add a layer control panel to the map\n",
        "my_map.add_child(folium.LayerControl())\n",
        "\n",
        "#display the map\n",
        "display(my_map)"
      ],
      "metadata": {
        "colab": {
          "base_uri": "https://localhost:8080/",
          "height": 823
        },
        "id": "OnEQx1fVvDyy",
        "outputId": "2c60899d-b321-452d-cc87-242bf62cf38e"
      },
      "execution_count": null,
      "outputs": [
        {
          "output_type": "display_data",
          "data": {
            "text/plain": [
              "<folium.folium.Map at 0x7bae90a1c9d0>"
            ],
            "text/html": [
              "<div style=\"width:100%;\"><div style=\"position:relative;width:100%;height:0;padding-bottom:60%;\"><span style=\"color:#565656\">Make this Notebook Trusted to load map: File -> Trust Notebook</span><iframe srcdoc=\"&lt;!DOCTYPE html&gt;\n",
              "&lt;html&gt;\n",
              "&lt;head&gt;\n",
              "    \n",
              "    &lt;meta http-equiv=&quot;content-type&quot; content=&quot;text/html; charset=UTF-8&quot; /&gt;\n",
              "    \n",
              "        &lt;script&gt;\n",
              "            L_NO_TOUCH = false;\n",
              "            L_DISABLE_3D = false;\n",
              "        &lt;/script&gt;\n",
              "    \n",
              "    &lt;style&gt;html, body {width: 100%;height: 100%;margin: 0;padding: 0;}&lt;/style&gt;\n",
              "    &lt;style&gt;#map {position:absolute;top:0;bottom:0;right:0;left:0;}&lt;/style&gt;\n",
              "    &lt;script src=&quot;https://cdn.jsdelivr.net/npm/leaflet@1.9.3/dist/leaflet.js&quot;&gt;&lt;/script&gt;\n",
              "    &lt;script src=&quot;https://code.jquery.com/jquery-1.12.4.min.js&quot;&gt;&lt;/script&gt;\n",
              "    &lt;script src=&quot;https://cdn.jsdelivr.net/npm/bootstrap@5.2.2/dist/js/bootstrap.bundle.min.js&quot;&gt;&lt;/script&gt;\n",
              "    &lt;script src=&quot;https://cdnjs.cloudflare.com/ajax/libs/Leaflet.awesome-markers/2.0.2/leaflet.awesome-markers.js&quot;&gt;&lt;/script&gt;\n",
              "    &lt;link rel=&quot;stylesheet&quot; href=&quot;https://cdn.jsdelivr.net/npm/leaflet@1.9.3/dist/leaflet.css&quot;/&gt;\n",
              "    &lt;link rel=&quot;stylesheet&quot; href=&quot;https://cdn.jsdelivr.net/npm/bootstrap@5.2.2/dist/css/bootstrap.min.css&quot;/&gt;\n",
              "    &lt;link rel=&quot;stylesheet&quot; href=&quot;https://netdna.bootstrapcdn.com/bootstrap/3.0.0/css/bootstrap.min.css&quot;/&gt;\n",
              "    &lt;link rel=&quot;stylesheet&quot; href=&quot;https://cdn.jsdelivr.net/npm/@fortawesome/fontawesome-free@6.2.0/css/all.min.css&quot;/&gt;\n",
              "    &lt;link rel=&quot;stylesheet&quot; href=&quot;https://cdnjs.cloudflare.com/ajax/libs/Leaflet.awesome-markers/2.0.2/leaflet.awesome-markers.css&quot;/&gt;\n",
              "    &lt;link rel=&quot;stylesheet&quot; href=&quot;https://cdn.jsdelivr.net/gh/python-visualization/folium/folium/templates/leaflet.awesome.rotate.min.css&quot;/&gt;\n",
              "    \n",
              "            &lt;meta name=&quot;viewport&quot; content=&quot;width=device-width,\n",
              "                initial-scale=1.0, maximum-scale=1.0, user-scalable=no&quot; /&gt;\n",
              "            &lt;style&gt;\n",
              "                #map_5a642ff4142eb02b02c138383168425c {\n",
              "                    position: relative;\n",
              "                    width: 100.0%;\n",
              "                    height: 100.0%;\n",
              "                    left: 0.0%;\n",
              "                    top: 0.0%;\n",
              "                }\n",
              "                .leaflet-container { font-size: 1rem; }\n",
              "            &lt;/style&gt;\n",
              "        \n",
              "&lt;/head&gt;\n",
              "&lt;body&gt;\n",
              "    \n",
              "    \n",
              "            &lt;div class=&quot;folium-map&quot; id=&quot;map_5a642ff4142eb02b02c138383168425c&quot; &gt;&lt;/div&gt;\n",
              "        \n",
              "&lt;/body&gt;\n",
              "&lt;script&gt;\n",
              "    \n",
              "    \n",
              "            var map_5a642ff4142eb02b02c138383168425c = L.map(\n",
              "                &quot;map_5a642ff4142eb02b02c138383168425c&quot;,\n",
              "                {\n",
              "                    center: [-26.1694, 31.6632],\n",
              "                    crs: L.CRS.EPSG3857,\n",
              "                    zoom: 11,\n",
              "                    zoomControl: true,\n",
              "                    preferCanvas: false,\n",
              "                }\n",
              "            );\n",
              "\n",
              "            \n",
              "\n",
              "        \n",
              "    \n",
              "            var tile_layer_f9c4436f4b8033630e91a7df9bca6120 = L.tileLayer(\n",
              "                &quot;https://{s}.tile.openstreetmap.org/{z}/{x}/{y}.png&quot;,\n",
              "                {&quot;attribution&quot;: &quot;Data by \\u0026copy; \\u003ca target=\\&quot;_blank\\&quot; href=\\&quot;http://openstreetmap.org\\&quot;\\u003eOpenStreetMap\\u003c/a\\u003e, under \\u003ca target=\\&quot;_blank\\&quot; href=\\&quot;http://www.openstreetmap.org/copyright\\&quot;\\u003eODbL\\u003c/a\\u003e.&quot;, &quot;detectRetina&quot;: false, &quot;maxNativeZoom&quot;: 18, &quot;maxZoom&quot;: 18, &quot;minZoom&quot;: 0, &quot;noWrap&quot;: false, &quot;opacity&quot;: 1, &quot;subdomains&quot;: &quot;abc&quot;, &quot;tms&quot;: false}\n",
              "            ).addTo(map_5a642ff4142eb02b02c138383168425c);\n",
              "        \n",
              "    \n",
              "            var tile_layer_519bb583ad07e58cb8959645a278cac3 = L.tileLayer(\n",
              "                &quot;https://earthengine.googleapis.com/v1/projects/earthengine-legacy/maps/128846b8e6312ed7a3be6bc136dbbe90-e5163d77254a21ea7065cce60d19d7a5/tiles/{z}/{x}/{y}&quot;,\n",
              "                {&quot;attribution&quot;: &quot;Map Data \\u0026copy; \\u003ca href=\\&quot;https://earthengine.google.com/\\&quot;\\u003eGoogle Earth Engine\\u003e/a\\u003e&quot;, &quot;detectRetina&quot;: false, &quot;maxNativeZoom&quot;: 18, &quot;maxZoom&quot;: 18, &quot;minZoom&quot;: 0, &quot;noWrap&quot;: false, &quot;opacity&quot;: 1, &quot;subdomains&quot;: &quot;abc&quot;, &quot;tms&quot;: false}\n",
              "            ).addTo(map_5a642ff4142eb02b02c138383168425c);\n",
              "        \n",
              "    \n",
              "            var layer_control_3ce99f2e946048a2a784d573c21ea988 = {\n",
              "                base_layers : {\n",
              "                    &quot;openstreetmap&quot; : tile_layer_f9c4436f4b8033630e91a7df9bca6120,\n",
              "                },\n",
              "                overlays :  {\n",
              "                    &quot;clusters&quot; : tile_layer_519bb583ad07e58cb8959645a278cac3,\n",
              "                },\n",
              "            };\n",
              "            L.control.layers(\n",
              "                layer_control_3ce99f2e946048a2a784d573c21ea988.base_layers,\n",
              "                layer_control_3ce99f2e946048a2a784d573c21ea988.overlays,\n",
              "                {&quot;autoZIndex&quot;: true, &quot;collapsed&quot;: true, &quot;position&quot;: &quot;topright&quot;}\n",
              "            ).addTo(map_5a642ff4142eb02b02c138383168425c);\n",
              "        \n",
              "&lt;/script&gt;\n",
              "&lt;/html&gt;\" style=\"position:absolute;width:100%;height:100%;left:0;top:0;border:none !important;\" allowfullscreen webkitallowfullscreen mozallowfullscreen></iframe></div></div>"
            ]
          },
          "metadata": {}
        }
      ]
    },
    {
      "cell_type": "markdown",
      "source": [
        "CART Supervised Classification"
      ],
      "metadata": {
        "id": "iTBb8xZlyejq"
      }
    },
    {
      "cell_type": "code",
      "source": [
        "import ee"
      ],
      "metadata": {
        "id": "aZTOpSHOyPn7"
      },
      "execution_count": null,
      "outputs": []
    },
    {
      "cell_type": "code",
      "source": [
        "# Trigger the authentication flow.\n",
        "ee.Authenticate()\n",
        "\n",
        "# Initialize the library.\n",
        "ee.Initialize()"
      ],
      "metadata": {
        "colab": {
          "base_uri": "https://localhost:8080/"
        },
        "id": "Bs0Go0Fiyroc",
        "outputId": "5ea56c6b-db95-4392-a6eb-c000fbc244a2"
      },
      "execution_count": null,
      "outputs": [
        {
          "output_type": "stream",
          "name": "stdout",
          "text": [
            "To authorize access needed by Earth Engine, open the following URL in a web browser and follow the instructions. If the web browser does not start automatically, please manually browse the URL below.\n",
            "\n",
            "    https://code.earthengine.google.com/client-auth?scopes=https%3A//www.googleapis.com/auth/earthengine%20https%3A//www.googleapis.com/auth/devstorage.full_control&request_id=n_VZI1YjGXpGQln8gRQWLsY7x5MGC4vY4qUu3bQXfEU&tc=uW7pCDqYr4R7mixRfaHgEBQpV_3RZ3rO9gIjw6KMAH8&cc=bUsZw2qJ-sY1L6HtEoA3n3F-dVFn80_Cejr_KYwuog8\n",
            "\n",
            "The authorization workflow will generate a code, which you should paste in the box below.\n",
            "Enter verification code: 4/1Adeu5BXYYyWFs6NqqPFqHABhX2g6t4VrwkmgUk8mysuBhqFuHmW2trC0kJQ\n",
            "\n",
            "Successfully saved authorization token.\n"
          ]
        }
      ]
    },
    {
      "cell_type": "code",
      "source": [
        "#CART Supervised Classification with Landsat\n",
        "\n",
        "#ROI\n",
        "roi=ee.Geometry.Point([-122.26, 37.87])\n",
        "\n",
        "#Load Landsat 8 data\n",
        "image=ee.ImageCollection('LANDSAT/LC08/C01/T1_SR')\\\n",
        ".filterDate('2017-01-01','2017-12-31')\\\n",
        ".filterBounds(roi)\\\n",
        ".sort('CLOUD_COVER')\\\n",
        ".first()\n",
        "\n",
        "visParamsTrue={'bands':['B4','B3','B2'],'min':0, 'max':3000, 'gamma':1.4}\n"
      ],
      "metadata": {
        "id": "nI_GM1lMy27r"
      },
      "execution_count": null,
      "outputs": []
    },
    {
      "cell_type": "code",
      "source": [
        "#Import training data\n",
        "training=ee.FeatureCollection('users/midekisa/Train_Cover_CA')\n",
        "label='Class'\n",
        "bands=['B1','B2','B3','B4','B5','B6','B7']\n",
        "input=image.select(bands)\n",
        "\n",
        "#overlay the points on the imagery to get training\n",
        "trainImage=input.sampleRegions(**{\n",
        "    'collection':training,\n",
        "    'properties':[label],\n",
        "    'scale':30\n",
        "})\n",
        "trainingData=trainImage.randomColumn()\n",
        "trainSet=trainingData.filter(ee.Filter.lessThan('random',0.8))\n",
        "testSet=trainingData.filter(ee.Filter.greaterThanOrEquals('random',0.8))"
      ],
      "metadata": {
        "id": "u3hWqvd-zyhf"
      },
      "execution_count": null,
      "outputs": []
    },
    {
      "cell_type": "code",
      "source": [
        "#classification model\n",
        "classifier=ee.Classifier.smileCart().train(trainSet,label,bands)\n",
        "\n",
        "#classify the image\n",
        "classified=input.classify(classifier)\n",
        "#print(classfied.getInfo())\n",
        "\n",
        "#define a palette for the classification\n",
        "landcoverPalette=[\n",
        "    '#0c2c84', #water (0)\n",
        "    '#e31a1c', #urban (1)\n",
        "    '#005a32', #forest (2)\n",
        "    'FF8000', #crop (3)\n",
        "    '969696', #barren (4)\n",
        "]"
      ],
      "metadata": {
        "id": "tiy394XX055C"
      },
      "execution_count": null,
      "outputs": []
    },
    {
      "cell_type": "code",
      "source": [
        "#import the folium library\n",
        "import folium\n",
        "\n",
        "#define a method for displaying EE image tiles to folium map\n",
        "def add_ee_layer(self,ee_image_object, vis_params, name):\n",
        "  map_id_dict=ee.Image(ee_image_object).getMapId(vis_params)\n",
        "  folium.raster_layers.TileLayer(\n",
        "      tiles=map_id_dict['tile_fetcher'].url_format,\n",
        "      attr='Map Data &copy; <a href=\"https://earthengine.google.com/\">Google Earth Engine</a>',\n",
        "      name=name,\n",
        "      overlay=True,\n",
        "      control=True\n",
        "  ).add_to(self)\n",
        "\n",
        "#add EE drawing method to folium\n",
        "folium.Map.add_ee_layer=add_ee_layer\n",
        "\n",
        "#create a folium map object\n",
        "my_map=folium.Map(location=[38,-124], zoom_start=8)\n",
        "\n",
        "#add the layer to the map object\n",
        "my_map.add_ee_layer(image, visParamsTrue, \"Landsat 2017\")\n",
        "my_map.add_ee_layer(classified, {'palette': landcoverPalette, 'min':0, 'max':4}, 'classification')\n",
        "\n",
        "#add a layer control panel to the map\n",
        "my_map.add_child(folium.LayerControl())\n",
        "\n",
        "#display the map\n",
        "display(my_map)"
      ],
      "metadata": {
        "colab": {
          "base_uri": "https://localhost:8080/",
          "height": 823
        },
        "id": "lLnuey1c15hn",
        "outputId": "730adc60-9ec9-4ee0-c154-9d8d345bc572"
      },
      "execution_count": null,
      "outputs": [
        {
          "output_type": "display_data",
          "data": {
            "text/plain": [
              "<folium.folium.Map at 0x7bae90859210>"
            ],
            "text/html": [
              "<div style=\"width:100%;\"><div style=\"position:relative;width:100%;height:0;padding-bottom:60%;\"><span style=\"color:#565656\">Make this Notebook Trusted to load map: File -> Trust Notebook</span><iframe srcdoc=\"&lt;!DOCTYPE html&gt;\n",
              "&lt;html&gt;\n",
              "&lt;head&gt;\n",
              "    \n",
              "    &lt;meta http-equiv=&quot;content-type&quot; content=&quot;text/html; charset=UTF-8&quot; /&gt;\n",
              "    \n",
              "        &lt;script&gt;\n",
              "            L_NO_TOUCH = false;\n",
              "            L_DISABLE_3D = false;\n",
              "        &lt;/script&gt;\n",
              "    \n",
              "    &lt;style&gt;html, body {width: 100%;height: 100%;margin: 0;padding: 0;}&lt;/style&gt;\n",
              "    &lt;style&gt;#map {position:absolute;top:0;bottom:0;right:0;left:0;}&lt;/style&gt;\n",
              "    &lt;script src=&quot;https://cdn.jsdelivr.net/npm/leaflet@1.9.3/dist/leaflet.js&quot;&gt;&lt;/script&gt;\n",
              "    &lt;script src=&quot;https://code.jquery.com/jquery-1.12.4.min.js&quot;&gt;&lt;/script&gt;\n",
              "    &lt;script src=&quot;https://cdn.jsdelivr.net/npm/bootstrap@5.2.2/dist/js/bootstrap.bundle.min.js&quot;&gt;&lt;/script&gt;\n",
              "    &lt;script src=&quot;https://cdnjs.cloudflare.com/ajax/libs/Leaflet.awesome-markers/2.0.2/leaflet.awesome-markers.js&quot;&gt;&lt;/script&gt;\n",
              "    &lt;link rel=&quot;stylesheet&quot; href=&quot;https://cdn.jsdelivr.net/npm/leaflet@1.9.3/dist/leaflet.css&quot;/&gt;\n",
              "    &lt;link rel=&quot;stylesheet&quot; href=&quot;https://cdn.jsdelivr.net/npm/bootstrap@5.2.2/dist/css/bootstrap.min.css&quot;/&gt;\n",
              "    &lt;link rel=&quot;stylesheet&quot; href=&quot;https://netdna.bootstrapcdn.com/bootstrap/3.0.0/css/bootstrap.min.css&quot;/&gt;\n",
              "    &lt;link rel=&quot;stylesheet&quot; href=&quot;https://cdn.jsdelivr.net/npm/@fortawesome/fontawesome-free@6.2.0/css/all.min.css&quot;/&gt;\n",
              "    &lt;link rel=&quot;stylesheet&quot; href=&quot;https://cdnjs.cloudflare.com/ajax/libs/Leaflet.awesome-markers/2.0.2/leaflet.awesome-markers.css&quot;/&gt;\n",
              "    &lt;link rel=&quot;stylesheet&quot; href=&quot;https://cdn.jsdelivr.net/gh/python-visualization/folium/folium/templates/leaflet.awesome.rotate.min.css&quot;/&gt;\n",
              "    \n",
              "            &lt;meta name=&quot;viewport&quot; content=&quot;width=device-width,\n",
              "                initial-scale=1.0, maximum-scale=1.0, user-scalable=no&quot; /&gt;\n",
              "            &lt;style&gt;\n",
              "                #map_d7d468d844ef7e010885ba23c8747fc6 {\n",
              "                    position: relative;\n",
              "                    width: 100.0%;\n",
              "                    height: 100.0%;\n",
              "                    left: 0.0%;\n",
              "                    top: 0.0%;\n",
              "                }\n",
              "                .leaflet-container { font-size: 1rem; }\n",
              "            &lt;/style&gt;\n",
              "        \n",
              "&lt;/head&gt;\n",
              "&lt;body&gt;\n",
              "    \n",
              "    \n",
              "            &lt;div class=&quot;folium-map&quot; id=&quot;map_d7d468d844ef7e010885ba23c8747fc6&quot; &gt;&lt;/div&gt;\n",
              "        \n",
              "&lt;/body&gt;\n",
              "&lt;script&gt;\n",
              "    \n",
              "    \n",
              "            var map_d7d468d844ef7e010885ba23c8747fc6 = L.map(\n",
              "                &quot;map_d7d468d844ef7e010885ba23c8747fc6&quot;,\n",
              "                {\n",
              "                    center: [38.0, -124.0],\n",
              "                    crs: L.CRS.EPSG3857,\n",
              "                    zoom: 8,\n",
              "                    zoomControl: true,\n",
              "                    preferCanvas: false,\n",
              "                }\n",
              "            );\n",
              "\n",
              "            \n",
              "\n",
              "        \n",
              "    \n",
              "            var tile_layer_e8fef77983cc90ecc84b0e3c1afb4dc2 = L.tileLayer(\n",
              "                &quot;https://{s}.tile.openstreetmap.org/{z}/{x}/{y}.png&quot;,\n",
              "                {&quot;attribution&quot;: &quot;Data by \\u0026copy; \\u003ca target=\\&quot;_blank\\&quot; href=\\&quot;http://openstreetmap.org\\&quot;\\u003eOpenStreetMap\\u003c/a\\u003e, under \\u003ca target=\\&quot;_blank\\&quot; href=\\&quot;http://www.openstreetmap.org/copyright\\&quot;\\u003eODbL\\u003c/a\\u003e.&quot;, &quot;detectRetina&quot;: false, &quot;maxNativeZoom&quot;: 18, &quot;maxZoom&quot;: 18, &quot;minZoom&quot;: 0, &quot;noWrap&quot;: false, &quot;opacity&quot;: 1, &quot;subdomains&quot;: &quot;abc&quot;, &quot;tms&quot;: false}\n",
              "            ).addTo(map_d7d468d844ef7e010885ba23c8747fc6);\n",
              "        \n",
              "    \n",
              "            var tile_layer_cdcd1c5f9cd70e78fb114cfa88c4f911 = L.tileLayer(\n",
              "                &quot;https://earthengine.googleapis.com/v1/projects/earthengine-legacy/maps/2bfc495e1349943f912a91e037056446-c1a37afbc9d1e5a42f232203002dc4a5/tiles/{z}/{x}/{y}&quot;,\n",
              "                {&quot;attribution&quot;: &quot;Map Data \\u0026copy; \\u003ca href=\\&quot;https://earthengine.google.com/\\&quot;\\u003eGoogle Earth Engine\\u003c/a\\u003e&quot;, &quot;detectRetina&quot;: false, &quot;maxNativeZoom&quot;: 18, &quot;maxZoom&quot;: 18, &quot;minZoom&quot;: 0, &quot;noWrap&quot;: false, &quot;opacity&quot;: 1, &quot;subdomains&quot;: &quot;abc&quot;, &quot;tms&quot;: false}\n",
              "            ).addTo(map_d7d468d844ef7e010885ba23c8747fc6);\n",
              "        \n",
              "    \n",
              "            var tile_layer_b27d670330a16b5635272230d2f1844c = L.tileLayer(\n",
              "                &quot;https://earthengine.googleapis.com/v1/projects/earthengine-legacy/maps/53d4691e9346445064de2483444087bd-ff4b9728743b581b7ff81fe4b3b39a68/tiles/{z}/{x}/{y}&quot;,\n",
              "                {&quot;attribution&quot;: &quot;Map Data \\u0026copy; \\u003ca href=\\&quot;https://earthengine.google.com/\\&quot;\\u003eGoogle Earth Engine\\u003c/a\\u003e&quot;, &quot;detectRetina&quot;: false, &quot;maxNativeZoom&quot;: 18, &quot;maxZoom&quot;: 18, &quot;minZoom&quot;: 0, &quot;noWrap&quot;: false, &quot;opacity&quot;: 1, &quot;subdomains&quot;: &quot;abc&quot;, &quot;tms&quot;: false}\n",
              "            ).addTo(map_d7d468d844ef7e010885ba23c8747fc6);\n",
              "        \n",
              "    \n",
              "            var layer_control_d545e11eb6077edf56fc96ae700d0196 = {\n",
              "                base_layers : {\n",
              "                    &quot;openstreetmap&quot; : tile_layer_e8fef77983cc90ecc84b0e3c1afb4dc2,\n",
              "                },\n",
              "                overlays :  {\n",
              "                    &quot;Landsat 2017&quot; : tile_layer_cdcd1c5f9cd70e78fb114cfa88c4f911,\n",
              "                    &quot;classification&quot; : tile_layer_b27d670330a16b5635272230d2f1844c,\n",
              "                },\n",
              "            };\n",
              "            L.control.layers(\n",
              "                layer_control_d545e11eb6077edf56fc96ae700d0196.base_layers,\n",
              "                layer_control_d545e11eb6077edf56fc96ae700d0196.overlays,\n",
              "                {&quot;autoZIndex&quot;: true, &quot;collapsed&quot;: true, &quot;position&quot;: &quot;topright&quot;}\n",
              "            ).addTo(map_d7d468d844ef7e010885ba23c8747fc6);\n",
              "        \n",
              "&lt;/script&gt;\n",
              "&lt;/html&gt;\" style=\"position:absolute;width:100%;height:100%;left:0;top:0;border:none !important;\" allowfullscreen webkitallowfullscreen mozallowfullscreen></iframe></div></div>"
            ]
          },
          "metadata": {}
        }
      ]
    },
    {
      "cell_type": "markdown",
      "source": [
        "Random Forest Supervised Classification"
      ],
      "metadata": {
        "id": "v3PjH_VI4eH1"
      }
    },
    {
      "cell_type": "code",
      "source": [
        "#random forest supervised classification with landsat\n",
        "#roi\n",
        "roi=ee.Geometry.Point([-122.26,37.87])\n",
        "\n",
        "#load landsat 8 data\n",
        "image=ee.ImageCollection('LANDSAT/LC08/C01/T1_SR')\\\n",
        ".filterDate('2017-01-01','2017-12-31')\\\n",
        ".filterBounds(roi)\\\n",
        ".sort('CLOUD_COVER')\\\n",
        ".first()\n",
        "\n",
        "visParamsTrue={'bands':['B4','B3','B2'], 'min':0, 'max': 3000, 'gamma':1.4}\n",
        "\n",
        "#import training data\n",
        "training=ee.FeatureCollection('users/midekisa/Train_Cover_CA')\n",
        "label='Class'\n",
        "bands=['B1','B2', 'B3', 'B4', 'B5', 'B6', 'B7' ]\n",
        "input=image.select(bands)\n",
        "\n",
        "#overlay the points on the imagery to get training\n",
        "trainImage=input.sampleRegions(**{\n",
        "    'collection':training,\n",
        "    'properties':[label],\n",
        "    'scale':30\n",
        "})\n",
        "\n",
        "trainingData=trainImage.randomColumn()\n",
        "trainSet=trainingData.filter(ee.Filter.lessThan('random',0.8))\n",
        "testSet=trainingData.filter(ee.Filter.greaterThanOrEquals('random',0.8))\n",
        "\n",
        "#classification model\n",
        "#make a rf classifier and train it\n",
        "classifier=ee.Classifier.smileRandomForest(10).train(**{\n",
        "    'features':trainSet,\n",
        "    'classProperty':label,\n",
        "    'inputProperties': bands\n",
        "})\n",
        "\n",
        "#classify the image\n",
        "classified=input.classify(classifier);\n",
        "#print(classified.getInfo());\n",
        "\n",
        "#define a palette for the classification\n",
        "landcoverPalette=[\n",
        "     '#0c2c84', #water (0)\n",
        "    '#e31a1c', #urban (1)\n",
        "    '#005a32', #forest (2)\n",
        "    'FF8000', #crop (3)\n",
        "    '969696', #barren (4)\n",
        "]"
      ],
      "metadata": {
        "id": "cDLROHtA37ni"
      },
      "execution_count": null,
      "outputs": []
    },
    {
      "cell_type": "code",
      "source": [
        "#import the folium library\n",
        "import folium\n",
        "\n",
        "#define a method for displaying EE image tiles to folium map\n",
        "def add_ee_layer(self, ee_image_object, vis_params, name):\n",
        "  map_id_dict=ee.Image(ee_image_object).getMapId(vis_params)\n",
        "  folium.raster_layers.TileLayer(\n",
        "      tiles=map_id_dict['tile_fetcher'].url_format,\n",
        "      attr='Map Data &copy; <a href=\"https://earthengine.google.com/\">Google Earth Engine</a>',\n",
        "      name=name,\n",
        "      overlay=True,\n",
        "      control=True\n",
        "  ).add_to(self)\n",
        "\n",
        "#add EE drawing method to folium\n",
        "folium.Map.add_ee_layer=add_ee_layer\n",
        "\n",
        "#create a folium map object\n",
        "my_map=folium.Map(location=[38,-124],zoom_start=8)\n",
        "\n",
        "#add the layer to the map object\n",
        "my_map.add_ee_layer(image, visParamsTrue, \"Landsat 2017\")\n",
        "my_map.add_ee_layer(classified, {'palette': landcoverPalette, 'min':0, 'max':4}, 'classification')\n",
        "\n",
        "#add a layer control panel to the map\n",
        "my_map.add_child(folium.LayerControl())\n",
        "\n",
        "#display the map\n",
        "display(my_map)"
      ],
      "metadata": {
        "colab": {
          "base_uri": "https://localhost:8080/",
          "height": 823
        },
        "id": "lH2FUysV7aX1",
        "outputId": "15e40784-093e-417e-92fb-d2578b94b171"
      },
      "execution_count": null,
      "outputs": [
        {
          "output_type": "display_data",
          "data": {
            "text/plain": [
              "<folium.folium.Map at 0x7bae9082f130>"
            ],
            "text/html": [
              "<div style=\"width:100%;\"><div style=\"position:relative;width:100%;height:0;padding-bottom:60%;\"><span style=\"color:#565656\">Make this Notebook Trusted to load map: File -> Trust Notebook</span><iframe srcdoc=\"&lt;!DOCTYPE html&gt;\n",
              "&lt;html&gt;\n",
              "&lt;head&gt;\n",
              "    \n",
              "    &lt;meta http-equiv=&quot;content-type&quot; content=&quot;text/html; charset=UTF-8&quot; /&gt;\n",
              "    \n",
              "        &lt;script&gt;\n",
              "            L_NO_TOUCH = false;\n",
              "            L_DISABLE_3D = false;\n",
              "        &lt;/script&gt;\n",
              "    \n",
              "    &lt;style&gt;html, body {width: 100%;height: 100%;margin: 0;padding: 0;}&lt;/style&gt;\n",
              "    &lt;style&gt;#map {position:absolute;top:0;bottom:0;right:0;left:0;}&lt;/style&gt;\n",
              "    &lt;script src=&quot;https://cdn.jsdelivr.net/npm/leaflet@1.9.3/dist/leaflet.js&quot;&gt;&lt;/script&gt;\n",
              "    &lt;script src=&quot;https://code.jquery.com/jquery-1.12.4.min.js&quot;&gt;&lt;/script&gt;\n",
              "    &lt;script src=&quot;https://cdn.jsdelivr.net/npm/bootstrap@5.2.2/dist/js/bootstrap.bundle.min.js&quot;&gt;&lt;/script&gt;\n",
              "    &lt;script src=&quot;https://cdnjs.cloudflare.com/ajax/libs/Leaflet.awesome-markers/2.0.2/leaflet.awesome-markers.js&quot;&gt;&lt;/script&gt;\n",
              "    &lt;link rel=&quot;stylesheet&quot; href=&quot;https://cdn.jsdelivr.net/npm/leaflet@1.9.3/dist/leaflet.css&quot;/&gt;\n",
              "    &lt;link rel=&quot;stylesheet&quot; href=&quot;https://cdn.jsdelivr.net/npm/bootstrap@5.2.2/dist/css/bootstrap.min.css&quot;/&gt;\n",
              "    &lt;link rel=&quot;stylesheet&quot; href=&quot;https://netdna.bootstrapcdn.com/bootstrap/3.0.0/css/bootstrap.min.css&quot;/&gt;\n",
              "    &lt;link rel=&quot;stylesheet&quot; href=&quot;https://cdn.jsdelivr.net/npm/@fortawesome/fontawesome-free@6.2.0/css/all.min.css&quot;/&gt;\n",
              "    &lt;link rel=&quot;stylesheet&quot; href=&quot;https://cdnjs.cloudflare.com/ajax/libs/Leaflet.awesome-markers/2.0.2/leaflet.awesome-markers.css&quot;/&gt;\n",
              "    &lt;link rel=&quot;stylesheet&quot; href=&quot;https://cdn.jsdelivr.net/gh/python-visualization/folium/folium/templates/leaflet.awesome.rotate.min.css&quot;/&gt;\n",
              "    \n",
              "            &lt;meta name=&quot;viewport&quot; content=&quot;width=device-width,\n",
              "                initial-scale=1.0, maximum-scale=1.0, user-scalable=no&quot; /&gt;\n",
              "            &lt;style&gt;\n",
              "                #map_9345725d0487b366bce53f25a023da36 {\n",
              "                    position: relative;\n",
              "                    width: 100.0%;\n",
              "                    height: 100.0%;\n",
              "                    left: 0.0%;\n",
              "                    top: 0.0%;\n",
              "                }\n",
              "                .leaflet-container { font-size: 1rem; }\n",
              "            &lt;/style&gt;\n",
              "        \n",
              "&lt;/head&gt;\n",
              "&lt;body&gt;\n",
              "    \n",
              "    \n",
              "            &lt;div class=&quot;folium-map&quot; id=&quot;map_9345725d0487b366bce53f25a023da36&quot; &gt;&lt;/div&gt;\n",
              "        \n",
              "&lt;/body&gt;\n",
              "&lt;script&gt;\n",
              "    \n",
              "    \n",
              "            var map_9345725d0487b366bce53f25a023da36 = L.map(\n",
              "                &quot;map_9345725d0487b366bce53f25a023da36&quot;,\n",
              "                {\n",
              "                    center: [38.0, -124.0],\n",
              "                    crs: L.CRS.EPSG3857,\n",
              "                    zoom: 8,\n",
              "                    zoomControl: true,\n",
              "                    preferCanvas: false,\n",
              "                }\n",
              "            );\n",
              "\n",
              "            \n",
              "\n",
              "        \n",
              "    \n",
              "            var tile_layer_5b5420c2b2c9514f229044387dfc0878 = L.tileLayer(\n",
              "                &quot;https://{s}.tile.openstreetmap.org/{z}/{x}/{y}.png&quot;,\n",
              "                {&quot;attribution&quot;: &quot;Data by \\u0026copy; \\u003ca target=\\&quot;_blank\\&quot; href=\\&quot;http://openstreetmap.org\\&quot;\\u003eOpenStreetMap\\u003c/a\\u003e, under \\u003ca target=\\&quot;_blank\\&quot; href=\\&quot;http://www.openstreetmap.org/copyright\\&quot;\\u003eODbL\\u003c/a\\u003e.&quot;, &quot;detectRetina&quot;: false, &quot;maxNativeZoom&quot;: 18, &quot;maxZoom&quot;: 18, &quot;minZoom&quot;: 0, &quot;noWrap&quot;: false, &quot;opacity&quot;: 1, &quot;subdomains&quot;: &quot;abc&quot;, &quot;tms&quot;: false}\n",
              "            ).addTo(map_9345725d0487b366bce53f25a023da36);\n",
              "        \n",
              "    \n",
              "            var tile_layer_2ef2afdd6be48a27ac90b05a146e27bc = L.tileLayer(\n",
              "                &quot;https://earthengine.googleapis.com/v1/projects/earthengine-legacy/maps/2bfc495e1349943f912a91e037056446-7df5fe6f8d8d43e3dd85bd8092e911b1/tiles/{z}/{x}/{y}&quot;,\n",
              "                {&quot;attribution&quot;: &quot;Map Data \\u0026copy; \\u003ca href=\\&quot;https://earthengine.google.com/\\&quot;\\u003eGoogle Earth Engine\\u003c/a\\u003e&quot;, &quot;detectRetina&quot;: false, &quot;maxNativeZoom&quot;: 18, &quot;maxZoom&quot;: 18, &quot;minZoom&quot;: 0, &quot;noWrap&quot;: false, &quot;opacity&quot;: 1, &quot;subdomains&quot;: &quot;abc&quot;, &quot;tms&quot;: false}\n",
              "            ).addTo(map_9345725d0487b366bce53f25a023da36);\n",
              "        \n",
              "    \n",
              "            var tile_layer_47507ffe18bbaa742e27b676b0f4f200 = L.tileLayer(\n",
              "                &quot;https://earthengine.googleapis.com/v1/projects/earthengine-legacy/maps/e72f984ecc2a06b0468b2c8b5b72b0cd-74810547ffde96fbbaaf8e4f5997c4fa/tiles/{z}/{x}/{y}&quot;,\n",
              "                {&quot;attribution&quot;: &quot;Map Data \\u0026copy; \\u003ca href=\\&quot;https://earthengine.google.com/\\&quot;\\u003eGoogle Earth Engine\\u003c/a\\u003e&quot;, &quot;detectRetina&quot;: false, &quot;maxNativeZoom&quot;: 18, &quot;maxZoom&quot;: 18, &quot;minZoom&quot;: 0, &quot;noWrap&quot;: false, &quot;opacity&quot;: 1, &quot;subdomains&quot;: &quot;abc&quot;, &quot;tms&quot;: false}\n",
              "            ).addTo(map_9345725d0487b366bce53f25a023da36);\n",
              "        \n",
              "    \n",
              "            var layer_control_838552f3f4ed03f1efc6ab516194de7d = {\n",
              "                base_layers : {\n",
              "                    &quot;openstreetmap&quot; : tile_layer_5b5420c2b2c9514f229044387dfc0878,\n",
              "                },\n",
              "                overlays :  {\n",
              "                    &quot;Landsat 2017&quot; : tile_layer_2ef2afdd6be48a27ac90b05a146e27bc,\n",
              "                    &quot;classification&quot; : tile_layer_47507ffe18bbaa742e27b676b0f4f200,\n",
              "                },\n",
              "            };\n",
              "            L.control.layers(\n",
              "                layer_control_838552f3f4ed03f1efc6ab516194de7d.base_layers,\n",
              "                layer_control_838552f3f4ed03f1efc6ab516194de7d.overlays,\n",
              "                {&quot;autoZIndex&quot;: true, &quot;collapsed&quot;: true, &quot;position&quot;: &quot;topright&quot;}\n",
              "            ).addTo(map_9345725d0487b366bce53f25a023da36);\n",
              "        \n",
              "&lt;/script&gt;\n",
              "&lt;/html&gt;\" style=\"position:absolute;width:100%;height:100%;left:0;top:0;border:none !important;\" allowfullscreen webkitallowfullscreen mozallowfullscreen></iframe></div></div>"
            ]
          },
          "metadata": {}
        }
      ]
    }
  ]
}