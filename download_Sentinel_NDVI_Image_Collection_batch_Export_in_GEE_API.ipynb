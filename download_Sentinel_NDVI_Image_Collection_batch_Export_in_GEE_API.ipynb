{
  "nbformat": 4,
  "nbformat_minor": 0,
  "metadata": {
    "colab": {
      "provenance": [],
      "authorship_tag": "ABX9TyMwOEmvX7HfSJyuAJsWlsH3",
      "include_colab_link": true
    },
    "kernelspec": {
      "name": "python3",
      "display_name": "Python 3"
    },
    "language_info": {
      "name": "python"
    }
  },
  "cells": [
    {
      "cell_type": "markdown",
      "metadata": {
        "id": "view-in-github",
        "colab_type": "text"
      },
      "source": [
        "<a href=\"https://colab.research.google.com/github/shrutin567/Earth-Observation/blob/main/download_Sentinel_NDVI_Image_Collection_batch_Export_in_GEE_API.ipynb\" target=\"_parent\"><img src=\"https://colab.research.google.com/assets/colab-badge.svg\" alt=\"Open In Colab\"/></a>"
      ]
    },
    {
      "cell_type": "code",
      "execution_count": null,
      "metadata": {
        "colab": {
          "base_uri": "https://localhost:8080/"
        },
        "id": "wca498ZYUzkF",
        "outputId": "d3280cc3-bd3d-4db5-8a9c-a719e167b4e3"
      },
      "outputs": [
        {
          "output_type": "stream",
          "name": "stdout",
          "text": [
            "To authorize access needed by Earth Engine, open the following URL in a web browser and follow the instructions. If the web browser does not start automatically, please manually browse the URL below.\n",
            "\n",
            "    https://code.earthengine.google.com/client-auth?scopes=https%3A//www.googleapis.com/auth/earthengine%20https%3A//www.googleapis.com/auth/devstorage.full_control&request_id=AuB9Jsqj7MNGCZpjwOg3qnb70ZR_f8JTNM4RWCmftUg&tc=OaNla6dGErhnJEh7tlFO6mBY5Bq5rbB0OT1p497tdgw&cc=AKqjh5mfFk8RcYuUaVlJjtVfn1W6uHmxMBVcREwQFjE\n",
            "\n",
            "The authorization workflow will generate a code, which you should paste in the box below.\n",
            "Enter verification code: 4/1Adeu5BVN44VrxUw-1U2i1AGE2r9SEzctWQNwU1-ztRvXyFk2hvQljjr0Ibo\n",
            "\n",
            "Successfully saved authorization token.\n"
          ]
        }
      ],
      "source": [
        "#import ee engine\n",
        "import ee\n",
        "\n",
        "#trigger the authentification flow\n",
        "ee.Authenticate()\n",
        "\n",
        "#initializae the library\n",
        "ee.Initialize()"
      ]
    },
    {
      "cell_type": "code",
      "source": [
        "geometry=ee.Geometry.Point([31.5051, -26.6061])\n",
        "#location = roi.geometry().centroid().coordinates().getInfo()[::-1]\n",
        "location=geometry.coordinates().getInfo()[::-1]\n",
        "\n",
        "s2=ee.ImageCollection('COPERNICUS/S2_HARMONIZED')\n",
        "rgbVis={\n",
        "    'min':0.0,\n",
        "    'max':3000,\n",
        "    'bands':['B4','B3','B2'],\n",
        "}\n",
        "#write a function for cloud masking\n",
        "def maskS2clouds(image):\n",
        "  qa=image.select('QA60')\n",
        "  cloudBitMask=1<<10\n",
        "  cirrusBitMask=1<<11\n",
        "  mask=qa.bitwiseAnd(cloudBitMask).eq(0).And(\n",
        "      qa.bitwiseAnd(cirrusBitMask).eq(0))\n",
        "  return image.updateMask(mask) \\\n",
        "  .select(\"B.*\") \\\n",
        "  .copyProperties(image,[\"system:time_start\"])\n",
        "\n",
        "filtered=s2.filter(ee.Filter.date('2020-01-01','2020-05-01')) \\\n",
        ".filter(ee.Filter.lt('CLOUDY_PIXEL_PERCENTAGE',30)) \\\n",
        ".filter(ee.Filter.bounds(geometry)) \\\n",
        ".map(maskS2clouds)\n",
        "\n",
        "#write a function that compares NDVI for an image and adds it as a band\n",
        "def addNDVI(image):\n",
        "  ndvi=image.normalizedDifference(['B5','B4']).rename('ndvi')\n",
        "  return image.addBands(ndvi)\n",
        "\n",
        "withNdvi=filtered.map(addNDVI)\n",
        "median=withNdvi.median()"
      ],
      "metadata": {
        "id": "c0xM6mTJVfss"
      },
      "execution_count": null,
      "outputs": []
    },
    {
      "cell_type": "code",
      "source": [
        "#import the folium library\n",
        "import folium\n",
        "\n",
        "#define a method for displaying ee image tiles to folium map\n",
        "def addLayer(self,ee_image_object,vis_params,name):\n",
        "  map_id_dict=ee.Image(ee_image_object).getMapId(vis_params)\n",
        "  folium.raster_layers.TileLayer(\n",
        "      tiles=map_id_dict['tile_fetcher'].url_format,\n",
        "      attr='Map Data &copy; <a href= \"https://earthengine.google.com/\">Google Earth Engine</a>',\n",
        "      name=name,\n",
        "      overlay=True,\n",
        "      control=True\n",
        "  ).add_to(self)\n",
        "\n",
        "#add ee drawing method to folium\n",
        "folium.Map.addLayer=addLayer\n",
        "\n",
        "#create the map object\n",
        "Map=folium.Map(location=location,zoom_start=10)"
      ],
      "metadata": {
        "id": "HI9vCS_1Yfmt"
      },
      "execution_count": null,
      "outputs": []
    },
    {
      "cell_type": "code",
      "source": [
        "Map.addLayer(median,rgbVis,'Sentinel')\n",
        "#add a layer control panel to the map\n",
        "Map.add_child(folium.LayerControl())\n",
        "\n",
        "#display the map\n",
        "display(Map)"
      ],
      "metadata": {
        "colab": {
          "base_uri": "https://localhost:8080/",
          "height": 933
        },
        "id": "26X2mvTHZiSJ",
        "outputId": "b57c514c-4e20-475c-f9b2-98fa1f006502"
      },
      "execution_count": null,
      "outputs": [
        {
          "output_type": "display_data",
          "data": {
            "text/plain": [
              "<folium.folium.Map at 0x7e883adc3ee0>"
            ],
            "text/html": [
              "<div style=\"width:100%;\"><div style=\"position:relative;width:100%;height:0;padding-bottom:60%;\"><span style=\"color:#565656\">Make this Notebook Trusted to load map: File -> Trust Notebook</span><iframe srcdoc=\"&lt;!DOCTYPE html&gt;\n",
              "&lt;html&gt;\n",
              "&lt;head&gt;\n",
              "    \n",
              "    &lt;meta http-equiv=&quot;content-type&quot; content=&quot;text/html; charset=UTF-8&quot; /&gt;\n",
              "    \n",
              "        &lt;script&gt;\n",
              "            L_NO_TOUCH = false;\n",
              "            L_DISABLE_3D = false;\n",
              "        &lt;/script&gt;\n",
              "    \n",
              "    &lt;style&gt;html, body {width: 100%;height: 100%;margin: 0;padding: 0;}&lt;/style&gt;\n",
              "    &lt;style&gt;#map {position:absolute;top:0;bottom:0;right:0;left:0;}&lt;/style&gt;\n",
              "    &lt;script src=&quot;https://cdn.jsdelivr.net/npm/leaflet@1.9.3/dist/leaflet.js&quot;&gt;&lt;/script&gt;\n",
              "    &lt;script src=&quot;https://code.jquery.com/jquery-1.12.4.min.js&quot;&gt;&lt;/script&gt;\n",
              "    &lt;script src=&quot;https://cdn.jsdelivr.net/npm/bootstrap@5.2.2/dist/js/bootstrap.bundle.min.js&quot;&gt;&lt;/script&gt;\n",
              "    &lt;script src=&quot;https://cdnjs.cloudflare.com/ajax/libs/Leaflet.awesome-markers/2.0.2/leaflet.awesome-markers.js&quot;&gt;&lt;/script&gt;\n",
              "    &lt;link rel=&quot;stylesheet&quot; href=&quot;https://cdn.jsdelivr.net/npm/leaflet@1.9.3/dist/leaflet.css&quot;/&gt;\n",
              "    &lt;link rel=&quot;stylesheet&quot; href=&quot;https://cdn.jsdelivr.net/npm/bootstrap@5.2.2/dist/css/bootstrap.min.css&quot;/&gt;\n",
              "    &lt;link rel=&quot;stylesheet&quot; href=&quot;https://netdna.bootstrapcdn.com/bootstrap/3.0.0/css/bootstrap.min.css&quot;/&gt;\n",
              "    &lt;link rel=&quot;stylesheet&quot; href=&quot;https://cdn.jsdelivr.net/npm/@fortawesome/fontawesome-free@6.2.0/css/all.min.css&quot;/&gt;\n",
              "    &lt;link rel=&quot;stylesheet&quot; href=&quot;https://cdnjs.cloudflare.com/ajax/libs/Leaflet.awesome-markers/2.0.2/leaflet.awesome-markers.css&quot;/&gt;\n",
              "    &lt;link rel=&quot;stylesheet&quot; href=&quot;https://cdn.jsdelivr.net/gh/python-visualization/folium/folium/templates/leaflet.awesome.rotate.min.css&quot;/&gt;\n",
              "    \n",
              "            &lt;meta name=&quot;viewport&quot; content=&quot;width=device-width,\n",
              "                initial-scale=1.0, maximum-scale=1.0, user-scalable=no&quot; /&gt;\n",
              "            &lt;style&gt;\n",
              "                #map_cfa129ccb7b7d0b4e5611bb3983055fc {\n",
              "                    position: relative;\n",
              "                    width: 100.0%;\n",
              "                    height: 100.0%;\n",
              "                    left: 0.0%;\n",
              "                    top: 0.0%;\n",
              "                }\n",
              "                .leaflet-container { font-size: 1rem; }\n",
              "            &lt;/style&gt;\n",
              "        \n",
              "&lt;/head&gt;\n",
              "&lt;body&gt;\n",
              "    \n",
              "    \n",
              "            &lt;div class=&quot;folium-map&quot; id=&quot;map_cfa129ccb7b7d0b4e5611bb3983055fc&quot; &gt;&lt;/div&gt;\n",
              "        \n",
              "&lt;/body&gt;\n",
              "&lt;script&gt;\n",
              "    \n",
              "    \n",
              "            var map_cfa129ccb7b7d0b4e5611bb3983055fc = L.map(\n",
              "                &quot;map_cfa129ccb7b7d0b4e5611bb3983055fc&quot;,\n",
              "                {\n",
              "                    center: [-26.6061, 31.5051],\n",
              "                    crs: L.CRS.EPSG3857,\n",
              "                    zoom: 10,\n",
              "                    zoomControl: true,\n",
              "                    preferCanvas: false,\n",
              "                }\n",
              "            );\n",
              "\n",
              "            \n",
              "\n",
              "        \n",
              "    \n",
              "            var tile_layer_a247aa8ad26bded45b2bd0486e69b021 = L.tileLayer(\n",
              "                &quot;https://{s}.tile.openstreetmap.org/{z}/{x}/{y}.png&quot;,\n",
              "                {&quot;attribution&quot;: &quot;Data by \\u0026copy; \\u003ca target=\\&quot;_blank\\&quot; href=\\&quot;http://openstreetmap.org\\&quot;\\u003eOpenStreetMap\\u003c/a\\u003e, under \\u003ca target=\\&quot;_blank\\&quot; href=\\&quot;http://www.openstreetmap.org/copyright\\&quot;\\u003eODbL\\u003c/a\\u003e.&quot;, &quot;detectRetina&quot;: false, &quot;maxNativeZoom&quot;: 18, &quot;maxZoom&quot;: 18, &quot;minZoom&quot;: 0, &quot;noWrap&quot;: false, &quot;opacity&quot;: 1, &quot;subdomains&quot;: &quot;abc&quot;, &quot;tms&quot;: false}\n",
              "            ).addTo(map_cfa129ccb7b7d0b4e5611bb3983055fc);\n",
              "        \n",
              "    \n",
              "            var tile_layer_64981a6e6ffc5761de460bab3c623826 = L.tileLayer(\n",
              "                &quot;https://earthengine.googleapis.com/v1/projects/earthengine-legacy/maps/78e71128488aa83865cdc064454c63aa-ac1f4d2127c01b8068d194d101804842/tiles/{z}/{x}/{y}&quot;,\n",
              "                {&quot;attribution&quot;: &quot;Map Data \\u0026copy; \\u003ca href= \\&quot;https://earthengine.google.com/\\&quot;\\u003eGoogle Earth Engine\\u003c/a\\u003e&quot;, &quot;detectRetina&quot;: false, &quot;maxNativeZoom&quot;: 18, &quot;maxZoom&quot;: 18, &quot;minZoom&quot;: 0, &quot;noWrap&quot;: false, &quot;opacity&quot;: 1, &quot;subdomains&quot;: &quot;abc&quot;, &quot;tms&quot;: false}\n",
              "            ).addTo(map_cfa129ccb7b7d0b4e5611bb3983055fc);\n",
              "        \n",
              "    \n",
              "            var layer_control_8eeed2a4ff952774c85570b3e77fd8b5 = {\n",
              "                base_layers : {\n",
              "                    &quot;openstreetmap&quot; : tile_layer_a247aa8ad26bded45b2bd0486e69b021,\n",
              "                },\n",
              "                overlays :  {\n",
              "                    &quot;Sentinel&quot; : tile_layer_64981a6e6ffc5761de460bab3c623826,\n",
              "                },\n",
              "            };\n",
              "            L.control.layers(\n",
              "                layer_control_8eeed2a4ff952774c85570b3e77fd8b5.base_layers,\n",
              "                layer_control_8eeed2a4ff952774c85570b3e77fd8b5.overlays,\n",
              "                {&quot;autoZIndex&quot;: true, &quot;collapsed&quot;: true, &quot;position&quot;: &quot;topright&quot;}\n",
              "            ).addTo(map_cfa129ccb7b7d0b4e5611bb3983055fc);\n",
              "        \n",
              "&lt;/script&gt;\n",
              "&lt;/html&gt;\" style=\"position:absolute;width:100%;height:100%;left:0;top:0;border:none !important;\" allowfullscreen webkitallowfullscreen mozallowfullscreen></iframe></div></div>"
            ]
          },
          "metadata": {}
        }
      ]
    },
    {
      "cell_type": "code",
      "source": [
        "image_ids=withNdvi.aggregate_array('system:index').getInfo()\n",
        "print('Total images: ',len(image_ids))"
      ],
      "metadata": {
        "colab": {
          "base_uri": "https://localhost:8080/"
        },
        "id": "CQCE9Ei1aLFk",
        "outputId": "30da046a-7165-4ee2-be01-68e40ca3fd0f"
      },
      "execution_count": null,
      "outputs": [
        {
          "output_type": "stream",
          "name": "stdout",
          "text": [
            "Total images:  11\n"
          ]
        }
      ]
    },
    {
      "cell_type": "code",
      "source": [
        "#export with 100m resolution\n",
        "for i, image_id in enumerate(image_ids):\n",
        "  image=ee.Image(withNdvi.filter(ee.Filter.eq('system:index',image_id)).first())\n",
        "  task=ee.batch.Export.image.toDrive(**{\n",
        "      'image':image.select('ndvi'),\n",
        "      'description':image.id().getInfo(),\n",
        "      'folder':'Example_folder',\n",
        "      'scale':100,\n",
        "      'region':image.geometry().bounds().getInfo()['coordinates'],\n",
        "      'maxPixels':1e10\n",
        "  })\n",
        "  task.start()\n",
        "  print('Started Task: ',i+1)"
      ],
      "metadata": {
        "colab": {
          "base_uri": "https://localhost:8080/"
        },
        "id": "ISahh7nlam3_",
        "outputId": "4bd651a2-83bd-46dd-f79d-3e7fb53bb52f"
      },
      "execution_count": null,
      "outputs": [
        {
          "output_type": "stream",
          "name": "stdout",
          "text": [
            "Started Task:  1\n",
            "Started Task:  2\n",
            "Started Task:  3\n",
            "Started Task:  4\n",
            "Started Task:  5\n",
            "Started Task:  6\n",
            "Started Task:  7\n",
            "Started Task:  8\n",
            "Started Task:  9\n",
            "Started Task:  10\n",
            "Started Task:  11\n"
          ]
        }
      ]
    }
  ]
}